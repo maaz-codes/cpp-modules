{
 "cells": [
  {
   "cell_type": "code",
   "execution_count": null,
   "metadata": {
    "vscode": {
     "languageId": "cpp"
    }
   },
   "outputs": [],
   "source": [
    "#include <iostream>\n",
    "using namespace std;\n",
    "\n",
    "cout << \"Hello, Jupyter with CPP! 🚀\" << endl;"
   ]
  },
  {
   "cell_type": "markdown",
   "metadata": {},
   "source": [
    "## Exercise 00: Megaphone\n",
    "\n",
    "This exercise is a simple introduction to C++ to make sure you understand basic syntax, I/O operations, and string manipulation.\n",
    "\n",
    "1. * #include <iostream> (Preprocessor Directive) - In C, you used #include <stdio.h> for printf() and scanf().\n",
    "\n",
    "   * In C++, #include <iostream> is used for input (std::cin) and output (std::cout).\n",
    "\n",
    "   * Unlike stdio.h, iostream does not use format specifiers like %d, %s, etc. Input/output in C++ is type-safe and works with \n",
    "   overloading (e.g., std::cout can handle strings, integers, and objects differently based on their type).\n",
    "\n",
    "   * It’s a header file, but does not require a .h extension like in C.\n",
    "\n",
    "2. * std::cout << \"Hello, C++!\" << std::endl; (Standard Output)\n",
    "\n",
    "   * std::cout is the equivalent of printf(), but:\n",
    "\n",
    "   * It uses the insertion operator << instead of format specifiers.\n",
    "\n",
    "   * It is type-safe and can be overloaded.\n",
    "\n",
    "   * No need for \\n, as std::endl is available.\n",
    "   \n",
    "Example Below:"
   ]
  },
  {
   "cell_type": "code",
   "execution_count": null,
   "metadata": {
    "vscode": {
     "languageId": "cpp"
    }
   },
   "outputs": [],
   "source": [
    "#include <iostream>\n",
    "int num = 42;\n",
    "std::cout << \"Number: \" << num << std::endl;\n",
    "// This is equivalent to :\n",
    "// printf(\"Number: %s\\n\", num);"
   ]
  },
  {
   "cell_type": "markdown",
   "metadata": {},
   "source": [
    "### What is a Namespace in C++?\n",
    "A namespace in C++ is a way to group identifiers (like functions, classes, and variables) under a unique name to avoid naming conflicts. It helps organize large codebases and prevents clashes when multiple libraries define the same function or variable name."
   ]
  },
  {
   "cell_type": "code",
   "execution_count": null,
   "metadata": {
    "vscode": {
     "languageId": "cpp"
    }
   },
   "outputs": [],
   "source": [
    "// Example for name conflicts:\n",
    "#include <iostream>\n",
    "void printMessage() { // func from lib1\n",
    "    std::cout << \"Hello from func of Libirary1\" << std::endl;\n",
    "}\n",
    "void printMessage() {\n",
    "    std::cout << \"Hello from func of Library2\" << std::endl;\n",
    "}\n",
    "printMessage();\n",
    "printMessage();"
   ]
  },
  {
   "cell_type": "code",
   "execution_count": null,
   "metadata": {
    "vscode": {
     "languageId": "cpp"
    }
   },
   "outputs": [],
   "source": [
    "// Solution using Namespace:\n",
    "#include <iostream>\n",
    "namespace lib1 {\n",
    "    void printMessage() {\n",
    "        std::cout << \"Hello from func of lib1\" << std::endl;\n",
    "    }\n",
    "}\n",
    "namespace lib2 {\n",
    "    void printMessage() {\n",
    "        std::cout << \"Hello from func of lib2\" << std::endl;\n",
    "    }\n",
    "}\n",
    "lib1::printMessage();\n",
    "lib2::printMessage();"
   ]
  },
  {
   "cell_type": "markdown",
   "metadata": {},
   "source": [
    "**So meaning of std::cout is:**\n",
    "* I want to use cout function from namespace std.\n",
    "\n",
    "**Easy way to not write all this again and again woud be:**\n",
    "\n",
    "* ```using namespace std;```\n",
    "\n",
    "* ```cout << \"Hello World\" << endl;```\n",
    "\n",
    "**BUT BE CAREFUL:**\n",
    " Using using namespace std; can cause name conflicts in large programs, especially when using multiple libraries.\n"
   ]
  }
 ],
 "metadata": {
  "language_info": {
   "name": "python"
  },
  "orig_nbformat": 4
 },
 "nbformat": 4,
 "nbformat_minor": 2
}
