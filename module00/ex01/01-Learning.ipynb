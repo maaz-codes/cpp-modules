{
 "cells": [
  {
   "cell_type": "markdown",
   "metadata": {},
   "source": [
    "## Exercise 01: My Awesome PhoneBook\n",
    "For this exercise, you need to build a basic phonebook application using C++ in an object-oriented way. To complete it, you must learn and understand the following topics:"
   ]
  },
  {
   "cell_type": "markdown",
   "metadata": {},
   "source": [
    "1. Understanding Classes and Objects\n",
    "2. Member Variables and Member Functions\n",
    "3. Arrays of Objects\n",
    "4. Formatting Output using iomanip"
   ]
  },
  {
   "cell_type": "markdown",
   "metadata": {},
   "source": [
    "### Understanding Classes and Objects\n",
    "\n",
    "#### Class Declaration & Definition\n",
    "A class in C++ is like a struct in C, but with encapsulation. It can contain both data and functions (methods).\n",
    "\n",
    "Syntax:\n",
    "```cpp\n",
    "class ClassName {\n",
    "    public:\n",
    "    // Data members (variables)\n",
    "    int data;\n",
    "\n",
    "    // Member functions (methods)\n",
    "    void show() {\n",
    "        std::cout << \"Data: \" << data << std::endl;\n",
    "    }\n",
    "};\n",
    "```\n",
    "This declares a class but does not create an object yet.\n",
    "\n",
    "**What is object and what is encapsulation you ask?** \n",
    "#### Object -\n",
    "A class defines the structure (data members) and behavior (member functions) that objects of that class will have.\n",
    "\n",
    "Where as an object is a concrete instance of the class, created with actual values and the ability to invoke the functions defined in the class.\n",
    "\n",
    "##### Creating an Object -"
   ]
  },
  {
   "cell_type": "code",
   "execution_count": null,
   "metadata": {
    "vscode": {
     "languageId": "cpp"
    }
   },
   "outputs": [],
   "source": [
    "#include <iostream>\n",
    "\n",
    "class Car {\n",
    "    public:\n",
    "    std::string company;\n",
    "    std::string model;\n",
    "    int         year;\n",
    "\n",
    "    void display() {\n",
    "        std::cout << \" \" << company << \" \" << model << \" \"\n",
    "        << year << std::endl;\n",
    "    }\n",
    "};\n",
    "\n",
    "int main() {\n",
    "    // Creating an object of the Car class\n",
    "    Car uae_popular;\n",
    "    Car india_popular;\n",
    "\n",
    "    uae_popular.company = \"Nissan\";\n",
    "    uae_popular.model = \"Patrol\";\n",
    "    uae_popular.year = 2020;\n",
    "\n",
    "    india_popular.company = \"Maruti\";\n",
    "    india_popular.model = \"Zen 800\";\n",
    "    india_popular.year = 1998;\n",
    "\n",
    "    // Calling member functions to display car-info\n",
    "    std::cout << \"India: \";\n",
    "    india_popular.display();\n",
    "    std::cout << \"UAE: \";\n",
    "    uae_popular.display();\n",
    "}"
   ]
  },
  {
   "cell_type": "markdown",
   "metadata": {},
   "source": [
    "#### Encapsulation -\n",
    "It’s all about bundling data (attributes) and methods (functions) that operate on the data within a single unit (class), and restricting direct access to some of the object’s components.\n",
    "\n",
    "**What does it do**\n",
    "1. Hiding the internal state of an object:\n",
    "\n",
    "    * By making data members private and allowing access to them through public methods, you control how data is accessed and modified.\n",
    "2. Providing a clear interface:\n",
    "\n",
    "    * You expose a set of functions (public methods) that allow interaction with the object, without exposing its internal workings or data.\n",
    "\n",
    "**How Does Encapsulation Work in C++?**\n",
    "\n",
    "In C++, encapsulation is achieved using access specifiers (like public, private, and protected):\n",
    "* **Private** members are not accessible from outside the class.\n",
    "\n",
    "* **Public** members are accessible from anywhere.\n",
    "\n",
    "* **Protected** members can be accessed by derived classes but not outside the class hierarchy.\n",
    "\n",
    "**NOTE :** We'll be learning about them more later in the modules."
   ]
  }
 ],
 "metadata": {
  "language_info": {
   "name": "python"
  },
  "orig_nbformat": 4
 },
 "nbformat": 4,
 "nbformat_minor": 2
}
